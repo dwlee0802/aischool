{
  "nbformat": 4,
  "nbformat_minor": 0,
  "metadata": {
    "colab": {
      "name": "AISchool_week1",
      "provenance": [],
      "toc_visible": true,
      "authorship_tag": "ABX9TyMR710t8vElmN/KOmpHmWt4",
      "include_colab_link": true
    },
    "kernelspec": {
      "name": "python3",
      "display_name": "Python 3"
    }
  },
  "cells": [
    {
      "cell_type": "markdown",
      "metadata": {
        "id": "view-in-github",
        "colab_type": "text"
      },
      "source": [
        "<a href=\"https://colab.research.google.com/github/dwlee0802/aischool/blob/master/AISchool_week1.ipynb\" target=\"_parent\"><img src=\"https://colab.research.google.com/assets/colab-badge.svg\" alt=\"Open In Colab\"/></a>"
      ]
    },
    {
      "cell_type": "markdown",
      "metadata": {
        "id": "lv_8AmN5M4a0",
        "colab_type": "text"
      },
      "source": [
        "인공지능 사관학교 과제 1주차"
      ]
    },
    {
      "cell_type": "markdown",
      "metadata": {
        "id": "d9UmIFdSPcYc",
        "colab_type": "text"
      },
      "source": [
        "언어, 음성, 이미지, 자율주행 분야에서의 인공지능 이용 사례 조사"
      ]
    },
    {
      "cell_type": "markdown",
      "metadata": {
        "id": "Dcrs4UObWHaO",
        "colab_type": "text"
      },
      "source": [
        ""
      ]
    }
  ]
}