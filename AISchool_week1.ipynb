{
  "nbformat": 4,
  "nbformat_minor": 0,
  "metadata": {
    "colab": {
      "name": "AISchool_week1",
      "provenance": [],
      "toc_visible": true,
      "authorship_tag": "ABX9TyOSqYTYdJnA4h/V39Nn6X9s",
      "include_colab_link": true
    },
    "kernelspec": {
      "name": "python3",
      "display_name": "Python 3"
    }
  },
  "cells": [
    {
      "cell_type": "markdown",
      "metadata": {
        "id": "view-in-github",
        "colab_type": "text"
      },
      "source": [
        "<a href=\"https://colab.research.google.com/github/dwlee0802/aischool/blob/master/AISchool_week1.ipynb\" target=\"_parent\"><img src=\"https://colab.research.google.com/assets/colab-badge.svg\" alt=\"Open In Colab\"/></a>"
      ]
    },
    {
      "cell_type": "markdown",
      "metadata": {
        "id": "lv_8AmN5M4a0",
        "colab_type": "text"
      },
      "source": [
        "#___인공지능 사관학교 과제 1주차___"
      ]
    },
    {
      "cell_type": "markdown",
      "metadata": {
        "id": "3ZBtNvtAY-Re",
        "colab_type": "text"
      },
      "source": [
        "\n",
        "###__언어, 음성, 이미지, 자율주행 분야에서의 인공지능 이용 사례 조사__"
      ]
    },
    {
      "cell_type": "markdown",
      "metadata": {
        "id": "d9UmIFdSPcYc",
        "colab_type": "text"
      },
      "source": [
        "####__언어__"
      ]
    },
    {
      "cell_type": "markdown",
      "metadata": {
        "id": "kniJxZaOZ1q5",
        "colab_type": "text"
      },
      "source": [
        ""
      ]
    },
    {
      "cell_type": "markdown",
      "metadata": {
        "colab_type": "text",
        "id": "oMs2OkLBZui9"
      },
      "source": [
        "####__음성__"
      ]
    },
    {
      "cell_type": "markdown",
      "metadata": {
        "id": "thoGigxWZ1XC",
        "colab_type": "text"
      },
      "source": [
        ""
      ]
    },
    {
      "cell_type": "markdown",
      "metadata": {
        "colab_type": "text",
        "id": "h7N7s6-CZux6"
      },
      "source": [
        "####__이미지__"
      ]
    },
    {
      "cell_type": "markdown",
      "metadata": {
        "id": "XLt-In1ZZ09B",
        "colab_type": "text"
      },
      "source": [
        ""
      ]
    },
    {
      "cell_type": "markdown",
      "metadata": {
        "colab_type": "text",
        "id": "EqtfUbIjZu6m"
      },
      "source": [
        "####__자율주행__"
      ]
    },
    {
      "cell_type": "markdown",
      "metadata": {
        "id": "4Q0z39nnYrFL",
        "colab_type": "text"
      },
      "source": [
        ""
      ]
    }
  ]
}