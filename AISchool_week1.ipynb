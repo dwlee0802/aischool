{
  "nbformat": 4,
  "nbformat_minor": 0,
  "metadata": {
    "colab": {
      "name": "AISchool_week1",
      "provenance": [],
      "toc_visible": true,
      "authorship_tag": "ABX9TyN3Xy/6JWDJJFjq/TSXAEaZ",
      "include_colab_link": true
    },
    "kernelspec": {
      "name": "python3",
      "display_name": "Python 3"
    }
  },
  "cells": [
    {
      "cell_type": "markdown",
      "metadata": {
        "id": "view-in-github",
        "colab_type": "text"
      },
      "source": [
        "<a href=\"https://colab.research.google.com/github/dwlee0802/aischool/blob/master/AISchool_week1.ipynb\" target=\"_parent\"><img src=\"https://colab.research.google.com/assets/colab-badge.svg\" alt=\"Open In Colab\"/></a>"
      ]
    },
    {
      "cell_type": "markdown",
      "metadata": {
        "id": "lv_8AmN5M4a0",
        "colab_type": "text"
      },
      "source": [
        "#___인공지능 사관학교 과제 1주차___"
      ]
    },
    {
      "cell_type": "markdown",
      "metadata": {
        "id": "3ZBtNvtAY-Re",
        "colab_type": "text"
      },
      "source": [
        "\n",
        "###__언어, 음성, 이미지, 자율주행 분야에서의 인공지능 이용 사례 조사__"
      ]
    },
    {
      "cell_type": "markdown",
      "metadata": {
        "id": "d9UmIFdSPcYc",
        "colab_type": "text"
      },
      "source": [
        "####__언어__"
      ]
    },
    {
      "cell_type": "markdown",
      "metadata": {
        "id": "kniJxZaOZ1q5",
        "colab_type": "text"
      },
      "source": [
        "  현재 상용화된 외국어 번역 서비스들은 대다수가 인공지능을 활용하여 번역의 질을 크게 향상시키고 있다. 대표적으로 이에 해당하는 서비스는 네이버의 파파고와 구글의 Google Translate가 있다.\n",
        "\n",
        "\n",
        "  기계번역의 방식은 인공지능을 활용한 방식과 그렇지 않은 기존의 방식이 존재한다. 기존의 방식은 수많은 단어들에 대한 번역 데이터베이스를 만들고, 대상 텍스트를 말뭉치(corpus)로 나눠 데이터베이스를 토대로 일대일 매칭시켜 번역하는 방식이다. 이는 통계기반 SMT(Statistical Machine Translation), 구문기반 PBMT(Phrase Based Machine Translation), 룰 기반 RBMT(Rule Based Machine Translation) 등으로 세부적으로 나뉜다.\n",
        "\n",
        "\n",
        "  이러한 기존의 방식은 문장을 말뭉치로 나누어 개별적으로 보기 때문에 번역 시스템이 문맥을 이해하는데에 어려움이 존재하고, 이중적인 의미나 동음이의어를 구별하는 것이 어렵고, 영어와 한국어의 사례처럼 어순에 차이가 존재할 경우 그것을 감안하여 번역하는 것이 까다롭다는 문제가 있다. 이러한 한계점들을 보완하는 기술이 인공지능 기반 번역이다.\n",
        "\n",
        "\n",
        "  인공지능 기반 번역은 대표적으로 신경망 기반 NMT(Neural Machine Translation)이다. NMT는 신경망 방식과 딥러닝을 아용하여 기계가 스스로 글의 패턴을 학습해 번역 시스템을 구축한다. 기존의 말뭉치가 아닌 문장 단위로 텍스트를 해석하여 문맥을 더욱 잘 파악할 수 있다는 장점이 있다. 또한, 신경망 기술을 이용하면 일종의 추상화된 '보편 언어'가 도출되는데, 이는 한국어 - 영어 번역과 한국어 - 일어 번역이 있을 때, 기계가 이해하는 순수히 의미에 기반한 보편 언어를 매개로 하여 한국어 - 일어 번역으로 자동으로 확장될 수 있다는 것을 뜻한다. 언급된 네이버 파파고와 구글 번역기 또한 최근에 기존의 방식에서 인공지능 기반 방식으로 전환한 바 있다. 단점으로는 아직은 기술적으로 구현하는 데에 요구되는 사항이 많아서 규모가 큰 프로젝트에서 이용이 용이하고 소규모 프로젝트에서는 SMT가 선호되는 추세이다.\n",
        "\n",
        "\n",
        "  학습목표: 인공지능 번역에 사용되는 딥러닝과 뉴럴 네트워크에 대해 더 자세하게 조사해보기.\n",
        "  \n",
        "  \n",
        "<출처>\n",
        "  \n",
        "구글과 파파고의 기계번역 \n",
        "  https://www.zdnet.co.kr/view/?no=20200614103854&re=O_20200614103854&p=1\n",
        "\n",
        "인공지능 번역 \n",
        "  http://www.hani.co.kr/arti/science/science_general/782345.html\n",
        "\n",
        "기계번역의 종류 \n",
        "  https://localizejs.com/articles/types-of-machine-translation/\n",
        "\n",
        "뉴럴 네트워크의 정의 \n",
        "  https://localizejs.com/articles/machine-learning-linguistic-developments-to-keep-an-eye-on-in-2018/"
      ]
    },
    {
      "cell_type": "markdown",
      "metadata": {
        "colab_type": "text",
        "id": "oMs2OkLBZui9"
      },
      "source": [
        "####__음성__"
      ]
    },
    {
      "cell_type": "markdown",
      "metadata": {
        "id": "thoGigxWZ1XC",
        "colab_type": "text"
      },
      "source": [
        "  음성 인식 비서 서비스를 탑재한 스마트폰을 이용하여 말로만 문자를 보내거나 피자를 주문하는 모습은 현재 우리 주위에서 매우 흔하게 볼 수 있는 것이 되었다. 세계적인 대기업들도 앞다투어 음성 인식 비서 서비스를 자체적으로 개발하고 있다. 대표적으로 애플의 Siri, 아마존의 Alexa, 네이버의 클로바가 있다. \n",
        "\n",
        "  이러한 서비스는 인공지능의 적용이 있었기에 지금과 같이 상용화 될 수 있었다. 기계가 인간의 말, 즉 자연언어(Natural Language)를 이해하기 위해서는 지구상에 존재하는 수많은 언어들, 그 언어들의 다양한 억양과 사투리들, 그리고 개개인의 언어 습관을 전부 이해할 수 있어야 한다. 또한, 비언어적 반언어적 요소들도 상황에 따라서 이해가 필요할 수도 있다. 이렇게 다양한 변수들을 전부 처리하기 위해서 인공지능이 적극적으로 사용된다. \n",
        "  말을 텍스트로 변환하는 것을 음성인식이라 부르며, 그 후 그 텍스트의 의미를 문맥을 포함하여 이해하는 것을 자연어 처리라고 한다. 자연어를 처리하는 과정에서 기계번역과 비슷한 목적으로 인공지능이 이용되기도 한다. 인공지능 기반 기계번역과 마찬가지로, 기술적으로 요구되는 자원이 크기에 애플의 Siri를 포함한 대다수의 음성 인식 비서 서비스들은 서버에서 처리를 하는 방식을 택하고 있다.\n",
        "\n",
        "학습목표: 인공지능이 음성 정보를 텍스트로 변환하는 방법에 대해 알아보기.\n",
        "\n",
        "\n",
        "<출처>\n",
        "\n",
        "자연어 처리 개요 \n",
        "https://becominghuman.ai/a-simple-introduction-to-natural-language-processing-ea66a1747b32\n",
        "\n",
        "Siri의 원리 \n",
        "https://magoosh.com/data-science/siri-work-science-behind-siri/\n"
      ]
    },
    {
      "cell_type": "markdown",
      "metadata": {
        "colab_type": "text",
        "id": "h7N7s6-CZux6"
      },
      "source": [
        "####__이미지__\n",
        "전 문단에서 음성 분야에 있어서 인공지능의 역할이 기계의 청각을 구현하는 것이라면 이미지 분야는 시각을 구현하는 것이라 할 수 있다. 이미지 처리 또한 음성과 마찬가지로 일차적으로 시각적 정보를 인식하고 그것을 기계가 처리할 수 있도록 가공을 거친 후, 인공지능을 이용하여 해당 이미지가 무엇에 관한 이미지인지를 인식하는 과정을 통해 이루어진다.\n",
        "\n",
        "이미지 인식은 인간이 가장 크게 의존하는 감각기관인 시각을 구현하는 분야이기에, 적용 가능성 또한 매우 크다. 대표적으로 사람의 얼굴 인식 인공지능이 있다. 호주의 한 기업에서 개발한 얼굴인식 인공지능은 해상도가 낮은 CCTV에 탑재될 목적으로 만들어졌는데, 낮은 해상도의 영상을 이용하기에 점이나 주름같은 세밀한 특징을 이용하지 않고 얼굴 전체의 모양을 모델링해서 유사성을 검사한다. 아마존에서 개발한 Amazon Rekognition은 얼굴 전체의 윤곽을 측정하고, 그 안에서 눈코입과 같은 특징들의 위치 정보를 알아낸 후, 개별 정보들을 종합적으로 평가해 특정 값으로 변환하고, 이를 데이터베이스와 매칭을 통해 얼굴을 식별한다. \n",
        "\n",
        "얼굴 인식 서비스는 범죄 예방, 신원 확인 과정을 매우 편리하게 만들고 그 효율성을 증대시킬 수 있다는 장점이 있다. 하지만 이러한 기술이 악용될 경우, 개인의 사생활과 인권, 자유를 침해할 수 있다는 심각한 단점이 있다. 또한, 인공지능이 잘못된 학습을 거친 결과 특정 얼굴 특징을 가지고 있는 사람은 특정 성향을 보일 것이라는 잘못된 편향을 가지게 될 수도 있다. 이러한 오류가 인간의 인지과정에 영향을 미칠 경우 일부 사람들이 차별을 받고 억울하게 피해를 입을 수도 있다.\n",
        "\n",
        "사회가 유지되는 데에 핵심적인 개인의 신원과 직접적으로 연관된 기술인 만큼, 그 위험성을 인지하고 개발 방향에 대해 심사숙고해야 하며 사회적인 합의가 이루어져 기술이 올바른 방식으로만 사용될 수 있게 해야 할 것이다.\n",
        "\n",
        "학습목표: 컴퓨터 비전에 대해 더욱 자세하게 알아보기. 해당 기술의 악용 가능성에 대해 분석해보고 그 대책을 고안해보기.\n",
        "\n",
        "\n",
        "<출처>\n",
        "\n",
        "얼굴인식 활용사례 \n",
        "http://www.aitimes.kr/news/articleView.html?idxno=15311\n",
        "\n",
        "아마존 활용사례\n",
        "https://aws.amazon.com/ko/rekognition/the-facts-on-facial-recognition-with-artificial-intelligence/\n",
        "\n",
        "호주 기업 얼굴인식\n",
        "https://www.sas.com/ko_kr/solutions/ai-mic/blog/face-recognition-technology.html\n",
        "\n"
      ]
    },
    {
      "cell_type": "markdown",
      "metadata": {
        "id": "XLt-In1ZZ09B",
        "colab_type": "text"
      },
      "source": [
        ""
      ]
    },
    {
      "cell_type": "markdown",
      "metadata": {
        "colab_type": "text",
        "id": "EqtfUbIjZu6m"
      },
      "source": [
        "####__자율주행__"
      ]
    },
    {
      "cell_type": "markdown",
      "metadata": {
        "id": "4Q0z39nnYrFL",
        "colab_type": "text"
      },
      "source": [
        "자율주행은 인공지능 기술들의 총집합이라고 할 수 있을만큼 위의 분야들을 포함한 다양한 인공지능 기술들이 이용된다. 가장 핵심적인 차로와 다른 자동차들을 인식할 때 이미지 인식 인공지능이 쓰이며 자동주차와 길찾기, 연비 관리를 도와주는 인공지능 또한 개발중에 있다. 기존의 스마트폰에 탑재되던 인공지능 비서나 컨텐츠 제어 인공지능 또한 차량에 탑재되어 인간의 삶을 더욱 편리하게 만들어 줄 것이다. 더 나아가 소리 정보로 환경 인식을 보완하는 기술도 개발되고 있는 등 매우 다양한 적용사례들이 있다.\n",
        "\n",
        "기존의 세계적인 자동차 제조 기업들 뿐만 아니라 구글이나 엔비디아와 같이 자동차와 큰 연관이 없는 기업들도 자율주행 시스템 개발에 투자하고 있다. 그 중 대표적인 기업이 전기자동차 기업 테슬라이다. 테슬라 자율주행 시스템에서는 모든 자율주행 자동차들이 네트워크를 통해 연결되어 있는데, 각각의 자동차가 도로 주행을 통해 수집하는 정보는 딥러닝 방식의 학습에 쓰여 모든 자동차들의 시스템의 향상을 불러오는 구조이다. 자동차 주위의 360도 모두를 전자 센서와 카메라로 감싸 주변 환경을 인식하여 사고율도 매우 낮은 편이다.\n",
        "\n",
        "자율주행 자동차는 아직 사회에 낯선 기술이지만, 학자들은 자율주행 자동차들이 도로 위에 많아지게 되면 사람들의 불안한 감정과는 다르게 자동차 사고를 대폭 감소시킬 것이며 교통 인프라 사용의 효율성을 극대화시킬 수 있을 것이라고 말한다. 다만, 예측이 어려운 인간 자동차 운전자들과 인공지능의 공존, 트롤리 딜레마와 같은 특정 상황에서 인공지능의 행동방식에 대해 아직 사회적 합의가 이루어지지 않은 점 등 자율주행 자동차의 상용화를 위해서 아직 해결해야 할 과제들이 존재하고 있다.\n",
        "\n",
        "학습목표: 자율주행 자동차가 환경을 인식하는 여러가지 방식들에 대해 조사해보기. 미래의 자율주행 자동차 주도 교통환경에서 전체 자동차 군집을 효율적으로 관제하기 위한 알고리즘들을 조사해보기.\n",
        "\n",
        "\n",
        "<출처>\n",
        "자율주행과 소리 인식 \n",
        "http://www.autoelectronics.co.kr/article/articleView.asp?idx=2442\n",
        "\n",
        "테슬라 자동차 클라우드 사용 인공지능\n",
        "https://bernardmarr.com/default.asp?contentID=1251\n",
        "\n",
        "자율주행 자동차의 미래\n",
        "https://www.abc.net.au/news/2020-06-13/driverless-cars-traffic-ethical-issues-social-inequality/12347890"
      ]
    }
  ]
}