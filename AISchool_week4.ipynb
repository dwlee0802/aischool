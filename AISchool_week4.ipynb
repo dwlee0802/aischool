{
  "nbformat": 4,
  "nbformat_minor": 0,
  "metadata": {
    "colab": {
      "name": "4주차 과제.ipynb",
      "provenance": [],
      "collapsed_sections": [],
      "include_colab_link": true
    },
    "kernelspec": {
      "name": "python3",
      "display_name": "Python 3"
    }
  },
  "cells": [
    {
      "cell_type": "markdown",
      "metadata": {
        "id": "view-in-github",
        "colab_type": "text"
      },
      "source": [
        "<a href=\"https://colab.research.google.com/github/dwlee0802/aischool/blob/master/AISchool_week4.ipynb\" target=\"_parent\"><img src=\"https://colab.research.google.com/assets/colab-badge.svg\" alt=\"Open In Colab\"/></a>"
      ]
    },
    {
      "cell_type": "markdown",
      "metadata": {
        "id": "wxkL6PjwsI6L",
        "colab_type": "text"
      },
      "source": [
        "# 4주차 과제\n",
        "- 용어 정리\n",
        "- 딥러닝 강의 클론 코딩\n",
        "- 딥러닝 순전파 & 역전파 계산"
      ]
    },
    {
      "cell_type": "markdown",
      "metadata": {
        "id": "ixEtDe6_uGgI",
        "colab_type": "text"
      },
      "source": [
        "## 1. 용어 정리\n",
        "\n",
        "다음 제시된 단어의 정의(설명)를 정리하여 작성 하세요.\n",
        "\n",
        "* 2문장 이상 작성 해 주세요. \n",
        "* 주제(단어)와 크게 벗어나지만 않는다면 정답처리 됩니다.\n",
        "* 강의 뿐 아니라 기타 레퍼런스를 참고하여 작성하셔도 됩니다. (기타 레퍼런스를 참고하신 경우, 해당 레퍼런스를 정리하여 하단에 작성해 주세요.)\n"
      ]
    },
    {
      "cell_type": "markdown",
      "metadata": {
        "id": "0lfwat8eurKZ",
        "colab_type": "text"
      },
      "source": [
        "__(예시)__\n",
        "### 심층 신경망\n",
        ": 입력층과 출력층 사이에 여러 개의 은닉층들로 이뤄진 인공신경망이다. 심층 신경망은 일반적으로 인공신경망과 마찬가지로 복잡한 비선형 관계들을 모델링 할 수 있다. 신층신경망의 목적은 분류 및 수치예측을 하기 위함이고 이미지 트레이닝이나 문자인식과 같은 분야에서 매우 유용하게 쓰이고 있다."
      ]
    },
    {
      "cell_type": "markdown",
      "metadata": {
        "id": "Y8YJNKG_v65A",
        "colab_type": "text"
      },
      "source": [
        "### MCP 뉴런\n",
        ": MCP 뉴런은 뇌의 뉴런을 수학적 알고리즘으로 단순하게 추상화한 것이다. 간단한 바이너리 출력을 가지는 논리 게이트로 나타내어진다. 이는 후에 퍼셉트론 알고리즘의 기반이 되었다.\n",
        "\n",
        "### 퍼셉트론\n",
        ": MCP뉴런에 영감을 받아 탄생한 퍼셉트론은 MCP와 마찬가지로 뉴런을 수학적 알고리즘으로 나타낸 것이다. 가중치와 역치값을 두어 여러개의 입력값을 받으면 가중치를 반영한 다음, 그것들을 활성함수를 통해서 출력값을 만들어낸다.\n",
        "\n",
        "### 역전파\n",
        ": 역전파는 출력 쪽의 정보가 다시 반대 방향으로 전달되어 가중치들을 수정하고 이러한 과정을 통해 학습 데이터와 출력값의 오차를 줄여나가는 방식이다. 활성함수에 따라서 은닉층이 깊어질수록 가중치가 0에 수렴하여 정확성이 떨어지는 문제가 발생할 수 있는데 이때 ReLu 등의 활성함수를 사용하면 해결이 가능하다.\n",
        "\n",
        "### 강화학습\n",
        ": 강화학습은 실험을 위한 환경 구축, 그리고 그 속에서 탐색과 활용을 통해 이루어진다. 학습은 보상을 추구하는 경향을 이용하며 학습을 반복할수록 그러한 보상을 최대화하는 행동에 수렴하게 된다.\n",
        "\n",
        "### 과적합\n",
        ": 과적합은 기계학습 모델이 훈련데이터에 너무 잘 맞게 수립되어서 훈련데이터에는 성능이 높지만 테스트 데이터에 대해서는 성능이 낮은 경우를 말한다. 이를 해결하기 위해서는 이질적인 데이터를 제거해주거나 표본을 늘리는 방식이 유효하다.\n",
        "\n",
        "### 차원의 저주\n",
        ": 데이터에서 특징이 너무 많아서 모델을 훈련 시킬때 계산량이 많아서 메모리 안에서 계산이 어려운 경우를 뜻한다. 이를 해결하는 방법은 차원을 축소하거나 특정 차원만 선택하여 이용하는 것 등이 있다.\n"
      ]
    },
    {
      "cell_type": "markdown",
      "metadata": {
        "id": "d-zfFXLCy6jD",
        "colab_type": "text"
      },
      "source": [
        "## 2. 딥러닝 강의 클론 코딩\n",
        "\n",
        "####__퍼셉트론 구조 구현하기__ \n",
        "딥러닝 강의(__딥러닝 원리[1] 3:15 ~ 5:15 부분__)를 보고 코드를 따라 치며 출력 결과를 만드세요.\n",
        " \n",
        "\n",
        "* 하나의 코드셀에 해당 코드를 한번에 다 적어서 실행해주세요 (__그렇게 하지 않을 경우, 아래 이미지와 같은 출력값이 나오지 않을 수 있습니다__)\n",
        "\n",
        "*__주의!__ 실제로 코딩해서 출력해보면 강의에 나온 출력 결과와 다르게 나옵니다!!\n"
      ]
    },
    {
      "cell_type": "code",
      "metadata": {
        "id": "Zb4Rgft0FIBl",
        "colab_type": "code",
        "colab": {
          "base_uri": "https://localhost:8080/",
          "height": 215
        },
        "outputId": "e940e449-0297-45a5-899b-81843d75873e"
      },
      "source": [
        "import tensorflow as tf\n",
        "tf.compat.v1.set_random_seed(2020)\n",
        "\n",
        "x = 1 #X는 입력치\n",
        "y = 0 #Y는 원하는 출력값\n",
        "w = tf.random.normal([1], 0, 1) #가중치. 학습을 통해서 변하는 것\n",
        "\n",
        "import math\n",
        "\n",
        "#활성화 함수. 출력값을 정한다.\n",
        "def sigmoid(x):\n",
        "  return 1/(1+math.exp(-x))\n",
        "\n",
        "#최종출력\n",
        "output = sigmoid(x * w)\n",
        "print(output)\n",
        "\n",
        "#경사하강법을 사용하여 가중치를 조절\n",
        "for i in range(1000):\n",
        "  output = sigmoid(x * w + 1)\n",
        "  error = y - output\n",
        "  #학습률을 반영\n",
        "  w = w + x * 0.1 * error\n",
        "\n",
        "  #천번 진행하고, 100번째들만 출력하라\n",
        "  if i % 100 == 99:\n",
        "    print(\"학습 횟수:\", i, \"Error:\",error, \"예측결과:\", output)"
      ],
      "execution_count": null,
      "outputs": [
        {
          "output_type": "stream",
          "text": [
            "0.47477188589261\n",
            "학습 횟수: 99 Error: -0.11785141422990125 예측결과: 0.11785141422990125\n",
            "학습 횟수: 199 Error: -0.056437892363069585 예측결과: 0.056437892363069585\n",
            "학습 횟수: 299 Error: -0.03664663210460491 예측결과: 0.03664663210460491\n",
            "학습 횟수: 399 Error: -0.027035202631167727 예측결과: 0.027035202631167727\n",
            "학습 횟수: 499 Error: -0.021385676644603398 예측결과: 0.021385676644603398\n",
            "학습 횟수: 599 Error: -0.017675525618145616 예측결과: 0.017675525618145616\n",
            "학습 횟수: 699 Error: -0.015055641400243657 예측결과: 0.015055641400243657\n",
            "학습 횟수: 799 Error: -0.013108452636121171 예측결과: 0.013108452636121171\n",
            "학습 횟수: 899 Error: -0.01160502207526953 예측결과: 0.01160502207526953\n",
            "학습 횟수: 999 Error: -0.010409605882192025 예측결과: 0.010409605882192025\n"
          ],
          "name": "stdout"
        }
      ]
    },
    {
      "cell_type": "markdown",
      "metadata": {
        "id": "wcc5mzI9oZ7r",
        "colab_type": "text"
      },
      "source": [
        "![대체 텍스트](https://www.notion.so/image/https%3A%2F%2Fs3-us-west-2.amazonaws.com%2Fsecure.notion-static.com%2F0cceeed0-0235-4b0f-af88-0b8c377d5b4b%2F_2020-06-09__9.35.23.png?table=block&id=88fd8912-9356-49a4-9fda-a1a63fe96ea9&width=2870&cache=v2)"
      ]
    },
    {
      "cell_type": "markdown",
      "metadata": {
        "id": "kr0HVRk8fOom",
        "colab_type": "text"
      },
      "source": [
        "## 3. 딥러닝 순전파 & 역전파 계산\n",
        "\n",
        "딥러닝 강의(__딥러닝 원리[2] 0:55 ~ 4:32 부분__)에 나오는 순전파 & 역전파 계산에 대한 문제 입니다.\n",
        "\n",
        "해당 영상과 다음 이미지를 참고하여 다음 2가지 물음에 답하세요.\n",
        "\n",
        "\n",
        "(1) 학습률이 0.2 일 경우 출력층의 노드값\n",
        "\n",
        "(2) 학습률이 0.1과 0.2 중 기대출력값이 지도데이터 \"3\"과 더 가까운 학습률은?"
      ]
    },
    {
      "cell_type": "markdown",
      "metadata": {
        "id": "CpwPFWhOUzww",
        "colab_type": "text"
      },
      "source": [
        "![대체 텍스트](https://www.notion.so/image/https%3A%2F%2Fs3-us-west-2.amazonaws.com%2Fsecure.notion-static.com%2Ff54dfd45-92ec-44ae-9616-6949d2484a45%2F_2020-06-10__5.22.03.png?table=block&id=ee05da89-3ceb-4ad9-a2d3-c9f68d24d1d9&width=3580&cache=v2)"
      ]
    },
    {
      "cell_type": "markdown",
      "metadata": {
        "id": "B2OVY7w5U3CI",
        "colab_type": "text"
      },
      "source": [
        "## (1) 학습률이 0.2 일 경우 출력층의 노드값 : 1.6\n",
        "## (2) 학습률이 0.1과 0.2 중 기대출력값이 지도데이터 \"3\"과 더 가까운 학습률은? : 0.1"
      ]
    },
    {
      "cell_type": "code",
      "metadata": {
        "id": "BgavfvqiWxBU",
        "colab_type": "code",
        "colab": {}
      },
      "source": [
        ""
      ],
      "execution_count": null,
      "outputs": []
    }
  ]
}